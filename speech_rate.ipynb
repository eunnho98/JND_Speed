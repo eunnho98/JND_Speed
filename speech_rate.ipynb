{
 "cells": [
  {
   "cell_type": "markdown",
   "id": "a4bbb80a",
   "metadata": {},
   "source": [
    "# 스피치 속도(조음속도) 계산\n",
    "\n",
    "- 조음속도: 침묵을 제외하고, 초당 발화하는 음절 개수"
   ]
  },
  {
   "cell_type": "code",
   "execution_count": 1,
   "id": "5a5578b7",
   "metadata": {},
   "outputs": [
    {
     "name": "stderr",
     "output_type": "stream",
     "text": [
      "c:\\Users\\KHU\\anaconda3\\envs\\pytch\\lib\\site-packages\\ctranslate2\\__init__.py:8: UserWarning: pkg_resources is deprecated as an API. See https://setuptools.pypa.io/en/latest/pkg_resources.html. The pkg_resources package is slated for removal as early as 2025-11-30. Refrain from using this package or pin to Setuptools<81.\n",
      "  import pkg_resources\n",
      "c:\\Users\\KHU\\anaconda3\\envs\\pytch\\lib\\site-packages\\tqdm\\auto.py:21: TqdmWarning: IProgress not found. Please update jupyter and ipywidgets. See https://ipywidgets.readthedocs.io/en/stable/user_install.html\n",
      "  from .autonotebook import tqdm as notebook_tqdm\n"
     ]
    },
    {
     "name": "stdout",
     "output_type": "stream",
     "text": [
      "청크 분할 진행\n",
      "조음 속도 계산 진행중...\n"
     ]
    },
    {
     "name": "stderr",
     "output_type": "stream",
     "text": [
      "Processing chunks:   0%|          | 0/20 [00:00<?, ?it/s]"
     ]
    },
    {
     "ename": "",
     "evalue": "",
     "output_type": "error",
     "traceback": [
      "\u001b[1;31m현재 셀 또는 이전 셀에서 코드를 실행하는 동안 Kernel이 충돌했습니다. \n",
      "\u001b[1;31m셀의 코드를 검토하여 가능한 오류 원인을 식별하세요. \n",
      "\u001b[1;31m자세한 내용을 보려면 <a href='https://aka.ms/vscodeJupyterKernelCrash'>여기</a>를 클릭하세요. \n",
      "\u001b[1;31m자세한 내용은 Jupyter <a href='command:jupyter.viewOutput'>로그</a>를 참조하세요."
     ]
    }
   ],
   "source": [
    "from faster_whisper import WhisperModel\n",
    "import utils\n",
    "import pandas as pd\n",
    "\n",
    "# device: cuda or cpu\n",
    "model = WhisperModel(\"base\", device=\"cuda\", compute_type=\"float16\")\n",
    "\n",
    "audio_path = \"./[61회 백상] 방송부문 남자 최우수 연기상 - 주지훈 ｜ 중증외상센터 ｜ JTBC 250505 방송 [3odlJeCwMxk].wav\"\n",
    "\n",
    "# 오디오 분할\n",
    "chunks = utils.split_audio(audio_path, start_time = 0, end_time = 60, chunk_size = 3, sr = 16000)\n",
    "\n",
    "# 조음 속도 계산\n",
    "result = utils.estimate_articulation_rate_fast_whisper(chunks, model)\n",
    "\n",
    "df = pd.DataFrame(results)\n",
    "df"
   ]
  },
  {
   "cell_type": "code",
   "execution_count": null,
   "id": "db882667",
   "metadata": {},
   "outputs": [],
   "source": []
  }
 ],
 "metadata": {
  "kernelspec": {
   "display_name": "pytch",
   "language": "python",
   "name": "python3"
  },
  "language_info": {
   "codemirror_mode": {
    "name": "ipython",
    "version": 3
   },
   "file_extension": ".py",
   "mimetype": "text/x-python",
   "name": "python",
   "nbconvert_exporter": "python",
   "pygments_lexer": "ipython3",
   "version": "3.10.16"
  }
 },
 "nbformat": 4,
 "nbformat_minor": 5
}
