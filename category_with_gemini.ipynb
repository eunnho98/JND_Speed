{
 "cells": [
  {
   "cell_type": "markdown",
   "id": "5e19acca",
   "metadata": {},
   "source": [
    "# 비디오 장르 맞추기\n",
    "\n",
    "GEMINI를 활용해서, 유튜버랑 제목을 통해 어떤 장르인지 맞추기"
   ]
  },
  {
   "cell_type": "code",
   "execution_count": 12,
   "id": "dc3a91b2",
   "metadata": {},
   "outputs": [
    {
     "name": "stdout",
     "output_type": "stream",
     "text": [
      "주어진 정보에 따르면,\n",
      "\n",
      "*   **비디오 제목:** 줄줄이그려요 (연속해서 그리는 게임이나 활동을 암시)\n",
      "*   **크리에이터 채널 이름:** 런닝맨 - 스브스 공식 채널 (유명한 예능/버라이어티 쇼 '런닝맨'의 공식 채널)\n",
      "\n",
      "'런닝맨'은 출연자들이 다양한 게임과 미션을 수행하며 시청자에게 즐거움을 주는 프로그램입니다. '줄줄이그려요'와 같은 코너는 이러한 예능의 한 부분으로, 웃음과 재미를 목적으로 합니다.\n",
      "\n",
      "따라서 가장 적합한 장르는 **24 - Entertainment** 입니다.\n"
     ]
    }
   ],
   "source": [
    "from google import genai\n",
    "from dotenv import load_dotenv\n",
    "import os\n",
    "\n",
    "load_dotenv()\n",
    "GEMINI_KEY = os.getenv('GEMINI_KEY')\n",
    "\n",
    "client = genai.Client(api_key=GEMINI_KEY)\n",
    "\n",
    "viedo_title = \"줄줄이그려요\"\n",
    "creator_name = \"런닝맨 - 스브스 공식 채널\"\n",
    "category_list = \"\"\"\n",
    "    2 - Cars & Vehicles\n",
    "    23 - Comedy\n",
    "    27 - Education\n",
    "    24 - Entertainment\n",
    "    1 - Film & Animation\n",
    "    20 - Gaming\n",
    "    26 - How-to & Style\n",
    "    10 - Music\n",
    "    25 - News & Politics\n",
    "    29 - Non-profits & Activism\n",
    "    22 - People & Blogs\n",
    "    15 - Pets & Animals\n",
    "    28 - Science & Technology\n",
    "    17 - Sport\n",
    "    19 - Travel & Events\n",
    "\n",
    "\"\"\"\n",
    "query = f\"\"\"\n",
    "    유튜브 제목과 크리에이터 채널 이름을 줄테니, category_list 중 어떤 장르인지 맞춰봐.\\n \n",
    "    비디오 제목: {viedo_title}\\n\n",
    "    크리에이터 채널 이름: {creator_name}\\n\n",
    "    장르 리스트: {category_list}\n",
    "\"\"\"\n",
    "\n",
    "response = client.models.generate_content(\n",
    "    model=\"gemini-2.5-flash\", contents=query\n",
    ")\n",
    "print(response.text)"
   ]
  },
  {
   "cell_type": "code",
   "execution_count": null,
   "id": "3d9155ca",
   "metadata": {},
   "outputs": [],
   "source": []
  }
 ],
 "metadata": {
  "kernelspec": {
   "display_name": "pytch",
   "language": "python",
   "name": "python3"
  },
  "language_info": {
   "codemirror_mode": {
    "name": "ipython",
    "version": 3
   },
   "file_extension": ".py",
   "mimetype": "text/x-python",
   "name": "python",
   "nbconvert_exporter": "python",
   "pygments_lexer": "ipython3",
   "version": "3.10.16"
  }
 },
 "nbformat": 4,
 "nbformat_minor": 5
}
